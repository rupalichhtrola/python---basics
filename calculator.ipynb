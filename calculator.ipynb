{
 "cells": [
  {
   "cell_type": "code",
   "execution_count": 15,
   "id": "afacf330",
   "metadata": {},
   "outputs": [
    {
     "name": "stdout",
     "output_type": "stream",
     "text": [
      "enter a : 6\n",
      "enter b : 4\n",
      "--------------------\n",
      "addition :  10.0\n",
      "Substraction :  2.0\n",
      "Multiplication : 24.0\n",
      "Division : 1.5\n"
     ]
    }
   ],
   "source": [
    "class cal:\n",
    "    def __init__(self,a,b):\n",
    "        self.a=a\n",
    "        self.b=b\n",
    "    try:\n",
    "        def add(self):\n",
    "            print(\"--------------------\")\n",
    "            print(\"addition : \",a+b) \n",
    "    except Exception as e:\n",
    "        print(e) \n",
    "    try:\n",
    "        def sub(self):\n",
    "            print(\"Substraction : \",a-b)\n",
    "    except Exception as e:\n",
    "        print(e) \n",
    "    try:\n",
    "        def mul(self):\n",
    "            print(\"Multiplication :\",a*b)\n",
    "    except Exception as e:\n",
    "        print(e) \n",
    "    try:\n",
    "        def div(self):\n",
    "            print(\"Division :\",a/b)      \n",
    "    except Exception as e:\n",
    "        print(e) \n",
    "      \n",
    "a=float(input(\"enter a : \"))\n",
    "b=float(input(\"enter b : \"))\n",
    "c=cal(a,b)\n",
    "c.add()\n",
    "c.sub()\n",
    "c.mul()\n",
    "c.div()"
   ]
  },
  {
   "cell_type": "code",
   "execution_count": null,
   "id": "51258b08",
   "metadata": {},
   "outputs": [],
   "source": []
  }
 ],
 "metadata": {
  "kernelspec": {
   "display_name": "Python 3 (ipykernel)",
   "language": "python",
   "name": "python3"
  },
  "language_info": {
   "codemirror_mode": {
    "name": "ipython",
    "version": 3
   },
   "file_extension": ".py",
   "mimetype": "text/x-python",
   "name": "python",
   "nbconvert_exporter": "python",
   "pygments_lexer": "ipython3",
   "version": "3.9.12"
  }
 },
 "nbformat": 4,
 "nbformat_minor": 5
}
