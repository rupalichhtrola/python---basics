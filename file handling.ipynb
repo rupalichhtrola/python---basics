{
 "cells": [
  {
   "cell_type": "code",
   "execution_count": null,
   "id": "f5974136",
   "metadata": {},
   "outputs": [],
   "source": [
    "# Q1 : create a file class for reading data from respective file with a method name read and write\n",
    "# Q2 : try to inharite read and write method from parent class to child class to perform read and write opration"
   ]
  },
  {
   "cell_type": "code",
   "execution_count": null,
   "id": "0f2f2c5d",
   "metadata": {},
   "outputs": [],
   "source": [
    "# Q1 : create a file class for reading data from respective file with a method name read and write"
   ]
  },
  {
   "cell_type": "code",
   "execution_count": 1,
   "id": "f1f601e4",
   "metadata": {},
   "outputs": [],
   "source": [
    "with open (\"example1.txt\",\"w\") as e:\n",
    "    e.write(\"Create a new text file of example 1\")"
   ]
  },
  {
   "cell_type": "code",
   "execution_count": 28,
   "id": "4a0f6328",
   "metadata": {},
   "outputs": [
    {
     "data": {
      "text/plain": [
       "'example1.txt'"
      ]
     },
     "execution_count": 28,
     "metadata": {},
     "output_type": "execute_result"
    }
   ],
   "source": [
    "e=open(\"example1.txt\",\"r+\")\n",
    "e.name    "
   ]
  },
  {
   "cell_type": "code",
   "execution_count": 2,
   "id": "cf6fb509",
   "metadata": {},
   "outputs": [],
   "source": [
    "class file:\n",
    "    def write(self):\n",
    "        with open(\"example1.txt\", \"w\") as f:\n",
    "            f.write(\"Create a new text file of example 1\")\n",
    "    def read(self):\n",
    "        f=open(\"example1.txt\",\"r+\")\n",
    "        f.read()       \n",
    "c=file()\n",
    "c.write()\n",
    "c.read()\n"
   ]
  },
  {
   "cell_type": "code",
   "execution_count": null,
   "id": "eecbf1d5",
   "metadata": {},
   "outputs": [],
   "source": []
  },
  {
   "cell_type": "code",
   "execution_count": null,
   "id": "cc7a699e",
   "metadata": {},
   "outputs": [],
   "source": [
    "# Q2 : try to inharite read and write method from parent class to child class to perform read and write opration   "
   ]
  },
  {
   "cell_type": "code",
   "execution_count": 34,
   "id": "88991fa7",
   "metadata": {},
   "outputs": [],
   "source": [
    "class perent:\n",
    "    def __init__(self,name,add,age):\n",
    "        self.name=name\n",
    "        self.age=age\n",
    "        self.add=add\n",
    "        \n",
    "    def write(self,name,age,add):\n",
    "        with open(\"example2.txt\",\"w\") as f:\n",
    "            f.write(\"Create a new text file for example 2 in perent class\")\n",
    "            f.write(\"rupali\")\n",
    "    def read(self):\n",
    "        f=open(\"example2.txt\",\"r+\")\n",
    "        f.name\n",
    "        \n",
    "class child(perent):\n",
    "    def write(self,name,age):\n",
    "        with open(\"example2.txt\",\"w\") as f:\n",
    "            f.write(\"Create a new text file for exampleb 2 in child class\")\n",
    "            f.write(\"\\n rupali\")\n",
    "    def read(self):\n",
    "        f=open(\"example2.txt\",\"r+\")\n",
    "        f.name\n",
    "        f.close()\n",
    "c=child(\"rupali\",30,\"vadodara\")\n",
    "c.write(\"abc\",3)\n",
    "c.read()"
   ]
  },
  {
   "cell_type": "code",
   "execution_count": 7,
   "id": "5a6971ff",
   "metadata": {},
   "outputs": [
    {
     "data": {
      "text/plain": [
       "'C:\\\\Users\\\\Rupali'"
      ]
     },
     "execution_count": 7,
     "metadata": {},
     "output_type": "execute_result"
    }
   ],
   "source": [
    "pwd()"
   ]
  },
  {
   "cell_type": "code",
   "execution_count": null,
   "id": "5e8c228b",
   "metadata": {},
   "outputs": [],
   "source": []
  }
 ],
 "metadata": {
  "kernelspec": {
   "display_name": "Python 3 (ipykernel)",
   "language": "python",
   "name": "python3"
  },
  "language_info": {
   "codemirror_mode": {
    "name": "ipython",
    "version": 3
   },
   "file_extension": ".py",
   "mimetype": "text/x-python",
   "name": "python",
   "nbconvert_exporter": "python",
   "pygments_lexer": "ipython3",
   "version": "3.9.12"
  }
 },
 "nbformat": 4,
 "nbformat_minor": 5
}
