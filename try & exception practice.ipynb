{
 "cells": [
  {
   "cell_type": "code",
   "execution_count": 2,
   "id": "91dd33a3",
   "metadata": {},
   "outputs": [
    {
     "name": "stdout",
     "output_type": "stream",
     "text": [
      "division by zero\n"
     ]
    }
   ],
   "source": [
    "try:\n",
    "    a=8\n",
    "    a/0\n",
    "    print(\"Hello World\")\n",
    "except Exception as e:\n",
    "    print(e)"
   ]
  },
  {
   "cell_type": "code",
   "execution_count": 5,
   "id": "3c1f8dd9",
   "metadata": {},
   "outputs": [
    {
     "name": "stdout",
     "output_type": "stream",
     "text": [
      "Enter value : hjfd\n"
     ]
    },
    {
     "ename": "ValueError",
     "evalue": "invalid literal for int() with base 10: 'hjfd'",
     "output_type": "error",
     "traceback": [
      "\u001b[1;31m---------------------------------------------------------------------------\u001b[0m",
      "\u001b[1;31mValueError\u001b[0m                                Traceback (most recent call last)",
      "Input \u001b[1;32mIn [5]\u001b[0m, in \u001b[0;36m<cell line: 1>\u001b[1;34m()\u001b[0m\n\u001b[1;32m----> 1\u001b[0m a\u001b[38;5;241m=\u001b[39m\u001b[38;5;28;43mint\u001b[39;49m\u001b[43m(\u001b[49m\u001b[38;5;28;43minput\u001b[39;49m\u001b[43m(\u001b[49m\u001b[38;5;124;43m\"\u001b[39;49m\u001b[38;5;124;43mEnter value : \u001b[39;49m\u001b[38;5;124;43m\"\u001b[39;49m\u001b[43m)\u001b[49m\u001b[43m)\u001b[49m\n",
      "\u001b[1;31mValueError\u001b[0m: invalid literal for int() with base 10: 'hjfd'"
     ]
    }
   ],
   "source": [
    "a=int(input(\"Enter value : \"))"
   ]
  },
  {
   "cell_type": "code",
   "execution_count": 6,
   "id": "5260b286",
   "metadata": {},
   "outputs": [
    {
     "name": "stdout",
     "output_type": "stream",
     "text": [
      "Enter value : bnvf\n",
      "invalid literal for int() with base 10: 'bnvf'\n"
     ]
    }
   ],
   "source": [
    "try:\n",
    "    a=int(input(\"Enter value : \"))\n",
    "except Exception as e:\n",
    "    print(e)"
   ]
  },
  {
   "cell_type": "code",
   "execution_count": 7,
   "id": "56b8ed38",
   "metadata": {},
   "outputs": [
    {
     "name": "stdout",
     "output_type": "stream",
     "text": [
      "can only concatenate list (not \"int\") to list\n"
     ]
    }
   ],
   "source": [
    "try:\n",
    "    l=[1,2,3,4,5]\n",
    "    for i in range(len(l+3)):\n",
    "        print(l)\n",
    "except Exception as e:\n",
    "    print(e)\n",
    "    "
   ]
  },
  {
   "cell_type": "code",
   "execution_count": 8,
   "id": "6b04fe94",
   "metadata": {},
   "outputs": [
    {
     "name": "stdout",
     "output_type": "stream",
     "text": [
      "[Errno 2] No such file or directory: 'test1.txt'\n"
     ]
    }
   ],
   "source": [
    "try:\n",
    "    f=open(\"test1.txt\",\"rb+\")\n",
    "    f.write(\"My name is Rupali Chhatrola\")\n",
    "except Exception as e:\n",
    "    print(e)"
   ]
  },
  {
   "cell_type": "code",
   "execution_count": 15,
   "id": "6cbe2744",
   "metadata": {},
   "outputs": [
    {
     "name": "stdout",
     "output_type": "stream",
     "text": [
      "1\n",
      "2\n",
      "3\n",
      "4\n",
      "5\n",
      "6\n",
      "7\n",
      "8\n",
      "9\n",
      "0\n",
      "list index out of range\n",
      "Rupali Ketul Chhatrola\n"
     ]
    }
   ],
   "source": [
    "l=[1,2,3,4,5,6,7,8,9,0]\n",
    "try:\n",
    "    for i in range(len(l)+1):\n",
    "        print(l[i])\n",
    "except Exception as e:\n",
    "       print(e)\n",
    "       print(\"Rupali Ketul Chhatrola\")"
   ]
  },
  {
   "cell_type": "code",
   "execution_count": 16,
   "id": "290ea452",
   "metadata": {},
   "outputs": [
    {
     "name": "stdout",
     "output_type": "stream",
     "text": [
      "This is my handler\n",
      "1\n",
      "2\n",
      "3\n",
      "4\n",
      "5\n"
     ]
    }
   ],
   "source": [
    "try:\n",
    "    f=open(\"test1.txt\",\"r\")\n",
    "    f.write(\"This is my code with exception handling\")\n",
    "    print(\"this is my code after write ops\")\n",
    "except :\n",
    "    print(\"This is my handler\")\n",
    "    \n",
    "try:\n",
    "    l=[1,2,3,4,5]\n",
    "    for i in l:\n",
    "        print(i)\n",
    "except:\n",
    "    print(\"This is my handler for FOR loop\")"
   ]
  },
  {
   "cell_type": "code",
   "execution_count": 18,
   "id": "f9331aa8",
   "metadata": {},
   "outputs": [
    {
     "name": "stdout",
     "output_type": "stream",
     "text": [
      "ghdfkjgh\n",
      "invalid literal for int() with base 10: 'ghdfkjgh'\n"
     ]
    }
   ],
   "source": [
    "try:\n",
    "    d={\"key1\":\"RUPALI\",\"key2\":[1,2,3,4,5],\"key3\":(6,7,8,9,0)}\n",
    "    d[\"key4\"]=int(input())\n",
    "except Exception as ru:\n",
    "    print(ru)"
   ]
  },
  {
   "cell_type": "code",
   "execution_count": 22,
   "id": "3032b1ab",
   "metadata": {},
   "outputs": [
    {
     "name": "stdout",
     "output_type": "stream",
     "text": [
      "5\n",
      "[Errno 2] No such file or directory: 'test2.txt'\n"
     ]
    }
   ],
   "source": [
    "try:\n",
    "    d={\"key1\":\"RUPALI\",\"key2\":[1,2,3,4,5],\"key3\":(6,7,8,9,0)}\n",
    "    d[\"key4\"]=int(input())\n",
    "    f=open(\"test2.txt\",\"r\")\n",
    "    \n",
    "except ValueError as xyz:\n",
    "    print(xyz)\n",
    "except FileNotFoundError as e:\n",
    "    print(e)\n",
    "except Exception as ee:\n",
    "    print(\"This is my exception class\",ee)"
   ]
  },
  {
   "cell_type": "code",
   "execution_count": 24,
   "id": "985a4206",
   "metadata": {},
   "outputs": [
    {
     "name": "stdout",
     "output_type": "stream",
     "text": [
      "Error in our programe [Errno 2] No such file or directory: 'test3.txt'\n"
     ]
    }
   ],
   "source": [
    "try:\n",
    "    f=open(\"test3.txt\",\"r\")\n",
    "    f.write(\"This is code in try block\")\n",
    "except Exception as e:\n",
    "    print(\"Error in our programe\",e)\n",
    "else:\n",
    "    print(\"This will execute once my try block will be execeute successfully\")\n",
    "    f.close()\n",
    "    "
   ]
  },
  {
   "cell_type": "code",
   "execution_count": 25,
   "id": "ee673beb",
   "metadata": {},
   "outputs": [
    {
     "name": "stdout",
     "output_type": "stream",
     "text": [
      "Do this on successfull execution of try block\n",
      "Do this for sure\n",
      "Handle this error\n",
      "It will come to this block for sure\n"
     ]
    }
   ],
   "source": [
    "try:\n",
    "    f=open(\"test4.txt\",\"w\")\n",
    "except Exception as e:\n",
    "    print(\"Error\",e)\n",
    "else:\n",
    "    print(\"Do this on successfull execution of try block\")\n",
    "finally:\n",
    "    print(\"Do this for sure\")\n",
    "    \n",
    "try:\n",
    "    f=open(\"rupali\",\"r\")\n",
    "except:\n",
    "    print(\"Handle this error\")\n",
    "finally:\n",
    "    print(\"It will come to this block for sure\")\n",
    "    "
   ]
  },
  {
   "cell_type": "code",
   "execution_count": 45,
   "id": "ad8e8e39",
   "metadata": {},
   "outputs": [
    {
     "name": "stdout",
     "output_type": "stream",
     "text": [
      "f\n",
      "Error :  invalid literal for int() with base 10: 'f'\n"
     ]
    }
   ],
   "source": [
    "def askint():\n",
    "    try:\n",
    "        a=int(input())\n",
    "       # print(a) \n",
    "        return a\n",
    "    except Exception as e:\n",
    "        print(\"Error : \",e)    \n",
    "askint()"
   ]
  },
  {
   "cell_type": "code",
   "execution_count": 1,
   "id": "3504b6e5",
   "metadata": {},
   "outputs": [
    {
     "name": "stdout",
     "output_type": "stream",
     "text": [
      "Enter the integer value : ry\n",
      "ERROR....No,You don't have entered an integer value,,Please enter an integer value \n",
      "Enter the integer value : 55\n"
     ]
    },
    {
     "data": {
      "text/plain": [
       "'Yes, You have entered an integer value'"
      ]
     },
     "execution_count": 1,
     "metadata": {},
     "output_type": "execute_result"
    }
   ],
   "source": [
    "def fun1():\n",
    "    \"\"\"In this program integer value is added\"\"\"\n",
    "    flag=True\n",
    "    while flag:\n",
    "        try:\n",
    "            a=int(input(\"Enter the integer value : \"))\n",
    "            if type(a)==int:\n",
    "                return \"Yes, You have entered an integer value\"\n",
    "                flag=False\n",
    "                \n",
    "        except Exception as e:\n",
    "            print(\"ERROR....No,You don't have entered an integer value,,Please enter an integer value \")    \n",
    "fun1()    \n",
    "        "
   ]
  },
  {
   "cell_type": "code",
   "execution_count": 3,
   "id": "9dcf5a37",
   "metadata": {},
   "outputs": [
    {
     "name": "stdout",
     "output_type": "stream",
     "text": [
      "yu\n",
      "Enter the input again  :  invalid literal for int() with base 10: 'yu'\n",
      "2\n"
     ]
    }
   ],
   "source": [
    "def integer():\n",
    "        \"\"\"Function asks for an integer unless provided otherwise\"\"\"\n",
    "        while True:\n",
    "            try:\n",
    "                x=int(input())\n",
    "                break\n",
    "            except ValueError as e:\n",
    "                print(\"Enter the input again  : \",e)\n",
    "                \n",
    "integer()\n",
    "        "
   ]
  },
  {
   "cell_type": "code",
   "execution_count": 4,
   "id": "22f60bc2",
   "metadata": {},
   "outputs": [
    {
     "name": "stdout",
     "output_type": "stream",
     "text": [
      "-2-1\n",
      "Sorrry, Your responce must not be negative...\n",
      "-22\n"
     ]
    }
   ],
   "source": [
    "def getint(p):\n",
    "    while True:\n",
    "        try:\n",
    "            value=int(input(p))\n",
    "        except ValueError:\n",
    "            print(\"sorry, I didn't understand that !!!\")\n",
    "            continue\n",
    "        if value<0:\n",
    "            print(\"Sorrry, Your responce must not be negative...\")\n",
    "            continue\n",
    "        else:\n",
    "            break\n",
    "        return value\n",
    "    \n",
    "getint(-2)"
   ]
  },
  {
   "cell_type": "code",
   "execution_count": 6,
   "id": "40c13136",
   "metadata": {},
   "outputs": [
    {
     "ename": "ZeroDivisionError",
     "evalue": "('You entered a nagetive value', 'Rupali')",
     "output_type": "error",
     "traceback": [
      "\u001b[1;31m---------------------------------------------------------------------------\u001b[0m",
      "\u001b[1;31mZeroDivisionError\u001b[0m                         Traceback (most recent call last)",
      "Input \u001b[1;32mIn [6]\u001b[0m, in \u001b[0;36m<cell line: 6>\u001b[1;34m()\u001b[0m\n\u001b[0;32m      3\u001b[0m         \u001b[38;5;28;01mraise\u001b[39;00m \u001b[38;5;167;01mZeroDivisionError\u001b[39;00m(\u001b[38;5;124m\"\u001b[39m\u001b[38;5;124mYou entered a nagetive value\u001b[39m\u001b[38;5;124m\"\u001b[39m,a)\n\u001b[0;32m      4\u001b[0m     \u001b[38;5;28;01mreturn\u001b[39;00m a\n\u001b[1;32m----> 6\u001b[0m \u001b[43mtest\u001b[49m\u001b[43m(\u001b[49m\u001b[38;5;124;43m\"\u001b[39;49m\u001b[38;5;124;43mRupali\u001b[39;49m\u001b[38;5;124;43m\"\u001b[39;49m\u001b[43m)\u001b[49m\n",
      "Input \u001b[1;32mIn [6]\u001b[0m, in \u001b[0;36mtest\u001b[1;34m(a)\u001b[0m\n\u001b[0;32m      1\u001b[0m \u001b[38;5;28;01mdef\u001b[39;00m \u001b[38;5;21mtest\u001b[39m(a):\n\u001b[0;32m      2\u001b[0m     \u001b[38;5;28;01mif\u001b[39;00m a\u001b[38;5;241m==\u001b[39m\u001b[38;5;124m\"\u001b[39m\u001b[38;5;124mRupali\u001b[39m\u001b[38;5;124m\"\u001b[39m:\n\u001b[1;32m----> 3\u001b[0m         \u001b[38;5;28;01mraise\u001b[39;00m \u001b[38;5;167;01mZeroDivisionError\u001b[39;00m(\u001b[38;5;124m\"\u001b[39m\u001b[38;5;124mYou entered a nagetive value\u001b[39m\u001b[38;5;124m\"\u001b[39m,a)\n\u001b[0;32m      4\u001b[0m     \u001b[38;5;28;01mreturn\u001b[39;00m a\n",
      "\u001b[1;31mZeroDivisionError\u001b[0m: ('You entered a nagetive value', 'Rupali')"
     ]
    }
   ],
   "source": [
    "def test(a):\n",
    "    if a==\"Rupali\":\n",
    "        raise ZeroDivisionError(\"You entered a nagetive value\",a)\n",
    "    return a\n",
    "\n",
    "test(\"Rupali\")"
   ]
  },
  {
   "cell_type": "code",
   "execution_count": 12,
   "id": "3afd0e1f",
   "metadata": {},
   "outputs": [
    {
     "name": "stdout",
     "output_type": "stream",
     "text": [
      "Enter : rupali\n",
      "Calling my raise exception invalid literal for int() with base 10: 'rupali'\n"
     ]
    }
   ],
   "source": [
    "try:\n",
    "    a=int(input(\"Enter : \"))\n",
    "    test(a)\n",
    "except Exception as e:\n",
    "    print(\"Calling my raise exception\",e)\n"
   ]
  },
  {
   "cell_type": "code",
   "execution_count": null,
   "id": "98c8afbb",
   "metadata": {},
   "outputs": [],
   "source": []
  }
 ],
 "metadata": {
  "kernelspec": {
   "display_name": "Python 3 (ipykernel)",
   "language": "python",
   "name": "python3"
  },
  "language_info": {
   "codemirror_mode": {
    "name": "ipython",
    "version": 3
   },
   "file_extension": ".py",
   "mimetype": "text/x-python",
   "name": "python",
   "nbconvert_exporter": "python",
   "pygments_lexer": "ipython3",
   "version": "3.9.12"
  }
 },
 "nbformat": 4,
 "nbformat_minor": 5
}
