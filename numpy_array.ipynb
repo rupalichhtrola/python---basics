{
 "cells": [
  {
   "cell_type": "code",
   "execution_count": 20,
   "id": "f0370f00",
   "metadata": {},
   "outputs": [],
   "source": [
    "import math"
   ]
  },
  {
   "cell_type": "code",
   "execution_count": 21,
   "id": "c6788916",
   "metadata": {},
   "outputs": [],
   "source": [
    "import numpy as np"
   ]
  },
  {
   "cell_type": "code",
   "execution_count": 22,
   "id": "e55024d5",
   "metadata": {},
   "outputs": [],
   "source": [
    "import array as arr"
   ]
  },
  {
   "cell_type": "code",
   "execution_count": 1,
   "id": "6186cd75",
   "metadata": {},
   "outputs": [
    {
     "data": {
      "text/plain": [
       "list"
      ]
     },
     "execution_count": 1,
     "metadata": {},
     "output_type": "execute_result"
    }
   ],
   "source": [
    "l=[1,2,\"abc\",\"xyz\",8,9]\n",
    "type(l)"
   ]
  },
  {
   "cell_type": "code",
   "execution_count": 7,
   "id": "efe85ce6",
   "metadata": {},
   "outputs": [
    {
     "data": {
      "text/plain": [
       "array(['1', '2', 'abc', 'xyz', '8', '9'], dtype='<U11')"
      ]
     },
     "execution_count": 7,
     "metadata": {},
     "output_type": "execute_result"
    }
   ],
   "source": [
    "np.array(((l)))"
   ]
  },
  {
   "cell_type": "code",
   "execution_count": 8,
   "id": "084209ec",
   "metadata": {},
   "outputs": [
    {
     "data": {
      "text/plain": [
       "numpy.ndarray"
      ]
     },
     "execution_count": 8,
     "metadata": {},
     "output_type": "execute_result"
    }
   ],
   "source": [
    "type(np.array(l))"
   ]
  },
  {
   "cell_type": "code",
   "execution_count": 10,
   "id": "25374c83",
   "metadata": {},
   "outputs": [
    {
     "data": {
      "text/plain": [
       "array([[['1', '4'],\n",
       "        ['4', '5'],\n",
       "        ['8', '9'],\n",
       "        ['j', 'k']]], dtype='<U11')"
      ]
     },
     "execution_count": 10,
     "metadata": {},
     "output_type": "execute_result"
    }
   ],
   "source": [
    "np.array([[[1,4],[4,5],[8,9],[\"j\",\"k\"]]])"
   ]
  },
  {
   "cell_type": "code",
   "execution_count": 11,
   "id": "bc471357",
   "metadata": {},
   "outputs": [
    {
     "data": {
      "text/plain": [
       "array([1, 2, 3])"
      ]
     },
     "execution_count": 11,
     "metadata": {},
     "output_type": "execute_result"
    }
   ],
   "source": [
    "np.array([1,2,3])"
   ]
  },
  {
   "cell_type": "code",
   "execution_count": 12,
   "id": "5190a2db",
   "metadata": {},
   "outputs": [
    {
     "data": {
      "text/plain": [
       "array([[[1, 2, 3]]])"
      ]
     },
     "execution_count": 12,
     "metadata": {},
     "output_type": "execute_result"
    }
   ],
   "source": [
    "np.array([1,2,3],ndmin=3)"
   ]
  },
  {
   "cell_type": "code",
   "execution_count": 13,
   "id": "02d474c7",
   "metadata": {},
   "outputs": [
    {
     "data": {
      "text/plain": [
       "numpy.ndarray"
      ]
     },
     "execution_count": 13,
     "metadata": {},
     "output_type": "execute_result"
    }
   ],
   "source": [
    "type(np.array([1,2,3],ndmin=3))"
   ]
  },
  {
   "cell_type": "code",
   "execution_count": 14,
   "id": "0a29f7da",
   "metadata": {},
   "outputs": [
    {
     "data": {
      "text/plain": [
       "array([1.+0.j, 2.+0.j, 3.+0.j])"
      ]
     },
     "execution_count": 14,
     "metadata": {},
     "output_type": "execute_result"
    }
   ],
   "source": [
    "np.array([1,2,3],dtype=complex)"
   ]
  },
  {
   "cell_type": "code",
   "execution_count": 15,
   "id": "8e99d791",
   "metadata": {},
   "outputs": [
    {
     "data": {
      "text/plain": [
       "array([1., 2., 3.])"
      ]
     },
     "execution_count": 15,
     "metadata": {},
     "output_type": "execute_result"
    }
   ],
   "source": [
    "np.array([1,2,3],dtype=float)"
   ]
  },
  {
   "cell_type": "code",
   "execution_count": 16,
   "id": "bb70fa2f",
   "metadata": {},
   "outputs": [
    {
     "data": {
      "text/plain": [
       "array(['1', '2', '3'], dtype='<U1')"
      ]
     },
     "execution_count": 16,
     "metadata": {},
     "output_type": "execute_result"
    }
   ],
   "source": [
    "np.array([1,2,3],dtype=str)"
   ]
  },
  {
   "cell_type": "code",
   "execution_count": 37,
   "id": "306baf5c",
   "metadata": {},
   "outputs": [],
   "source": [
    "a=np.array([(1,2),(3,4)])"
   ]
  },
  {
   "cell_type": "code",
   "execution_count": 38,
   "id": "cdcedd7e",
   "metadata": {},
   "outputs": [
    {
     "data": {
      "text/plain": [
       "array([[1, 2],\n",
       "       [3, 4]])"
      ]
     },
     "execution_count": 38,
     "metadata": {},
     "output_type": "execute_result"
    }
   ],
   "source": [
    "a"
   ]
  },
  {
   "cell_type": "code",
   "execution_count": 40,
   "id": "80842bb7",
   "metadata": {},
   "outputs": [
    {
     "data": {
      "text/plain": [
       "4"
      ]
     },
     "execution_count": 40,
     "metadata": {},
     "output_type": "execute_result"
    }
   ],
   "source": [
    "a[1][1]"
   ]
  },
  {
   "cell_type": "code",
   "execution_count": 41,
   "id": "c49bfcd8",
   "metadata": {},
   "outputs": [],
   "source": [
    "l=[3,4,5,6,7]"
   ]
  },
  {
   "cell_type": "code",
   "execution_count": 42,
   "id": "b8e9b356",
   "metadata": {},
   "outputs": [
    {
     "data": {
      "text/plain": [
       "array([3, 4, 5, 6, 7])"
      ]
     },
     "execution_count": 42,
     "metadata": {},
     "output_type": "execute_result"
    }
   ],
   "source": [
    "np.asarray(l)"
   ]
  },
  {
   "cell_type": "code",
   "execution_count": 43,
   "id": "f3349d09",
   "metadata": {},
   "outputs": [
    {
     "data": {
      "text/plain": [
       "array([3, 4, 5, 6, 7])"
      ]
     },
     "execution_count": 43,
     "metadata": {},
     "output_type": "execute_result"
    }
   ],
   "source": [
    "np.array(l)"
   ]
  },
  {
   "cell_type": "code",
   "execution_count": 44,
   "id": "18dcf019",
   "metadata": {},
   "outputs": [
    {
     "data": {
      "text/plain": [
       "array([3, 4, 5, 6, 7])"
      ]
     },
     "execution_count": 44,
     "metadata": {},
     "output_type": "execute_result"
    }
   ],
   "source": [
    "np.asanyarray(l)"
   ]
  },
  {
   "cell_type": "code",
   "execution_count": 45,
   "id": "5d9d5a88",
   "metadata": {},
   "outputs": [],
   "source": [
    "arr=np.array([(1,2,5),(3,4,7),(6,7,8)])"
   ]
  },
  {
   "cell_type": "code",
   "execution_count": 47,
   "id": "b9cf9489",
   "metadata": {},
   "outputs": [
    {
     "data": {
      "text/plain": [
       "array([[1, 2, 5],\n",
       "       [3, 4, 7],\n",
       "       [6, 7, 8]])"
      ]
     },
     "execution_count": 47,
     "metadata": {},
     "output_type": "execute_result"
    }
   ],
   "source": [
    "arr"
   ]
  },
  {
   "cell_type": "code",
   "execution_count": 48,
   "id": "876279e4",
   "metadata": {},
   "outputs": [
    {
     "data": {
      "text/plain": [
       "7"
      ]
     },
     "execution_count": 48,
     "metadata": {},
     "output_type": "execute_result"
    }
   ],
   "source": [
    "arr[2][1]"
   ]
  },
  {
   "cell_type": "code",
   "execution_count": 49,
   "id": "4f15f076",
   "metadata": {},
   "outputs": [],
   "source": [
    "arr[2][1]=87"
   ]
  },
  {
   "cell_type": "code",
   "execution_count": 50,
   "id": "3e83f944",
   "metadata": {},
   "outputs": [
    {
     "data": {
      "text/plain": [
       "array([[ 1,  2,  5],\n",
       "       [ 3,  4,  7],\n",
       "       [ 6, 87,  8]])"
      ]
     },
     "execution_count": 50,
     "metadata": {},
     "output_type": "execute_result"
    }
   ],
   "source": [
    "arr"
   ]
  },
  {
   "cell_type": "code",
   "execution_count": 51,
   "id": "0ee5e3e5",
   "metadata": {},
   "outputs": [
    {
     "data": {
      "text/plain": [
       "array([[ 1,  2,  5],\n",
       "       [ 3,  4,  7],\n",
       "       [ 6, 87,  8]])"
      ]
     },
     "execution_count": 51,
     "metadata": {},
     "output_type": "execute_result"
    }
   ],
   "source": [
    "arr[0:10]"
   ]
  },
  {
   "cell_type": "code",
   "execution_count": 52,
   "id": "85b08ed9",
   "metadata": {},
   "outputs": [
    {
     "data": {
      "text/plain": [
       "array([ 6, 87,  8])"
      ]
     },
     "execution_count": 52,
     "metadata": {},
     "output_type": "execute_result"
    }
   ],
   "source": [
    "arr[-1]"
   ]
  },
  {
   "cell_type": "code",
   "execution_count": 53,
   "id": "6c076675",
   "metadata": {},
   "outputs": [
    {
     "data": {
      "text/plain": [
       "array([1, 2, 5])"
      ]
     },
     "execution_count": 53,
     "metadata": {},
     "output_type": "execute_result"
    }
   ],
   "source": [
    "arr[0]"
   ]
  },
  {
   "cell_type": "code",
   "execution_count": 54,
   "id": "401fa7ec",
   "metadata": {},
   "outputs": [
    {
     "name": "stdout",
     "output_type": "stream",
     "text": [
      "[1 2 5]\n",
      "[3 4 7]\n",
      "[ 6 87  8]\n"
     ]
    }
   ],
   "source": [
    "for i in arr:\n",
    "    print(i)"
   ]
  },
  {
   "cell_type": "code",
   "execution_count": 1,
   "id": "c57d58b9",
   "metadata": {},
   "outputs": [],
   "source": [
    "import numpy as np"
   ]
  },
  {
   "cell_type": "code",
   "execution_count": 2,
   "id": "e72e7727",
   "metadata": {},
   "outputs": [],
   "source": [
    "import array as arr"
   ]
  },
  {
   "cell_type": "code",
   "execution_count": 3,
   "id": "efa1f280",
   "metadata": {},
   "outputs": [],
   "source": [
    "import math"
   ]
  },
  {
   "cell_type": "code",
   "execution_count": 5,
   "id": "d457b4b1",
   "metadata": {},
   "outputs": [
    {
     "data": {
      "text/plain": [
       "array([[ True, False, False, False],\n",
       "       [False,  True, False, False],\n",
       "       [False, False,  True, False],\n",
       "       [False, False, False,  True]])"
      ]
     },
     "execution_count": 5,
     "metadata": {},
     "output_type": "execute_result"
    }
   ],
   "source": [
    "np.fromfunction(lambda i,j :i==j,(4,4))"
   ]
  },
  {
   "cell_type": "code",
   "execution_count": 6,
   "id": "789a548d",
   "metadata": {},
   "outputs": [
    {
     "data": {
      "text/plain": [
       "array([[0., 0., 0.],\n",
       "       [0., 1., 2.],\n",
       "       [0., 2., 4.]])"
      ]
     },
     "execution_count": 6,
     "metadata": {},
     "output_type": "execute_result"
    }
   ],
   "source": [
    "np.fromfunction(lambda i,j :i*j,(3,3))"
   ]
  },
  {
   "cell_type": "code",
   "execution_count": 7,
   "id": "59977533",
   "metadata": {},
   "outputs": [
    {
     "name": "stderr",
     "output_type": "stream",
     "text": [
      "C:\\Users\\Rupali\\AppData\\Local\\Temp\\ipykernel_2468\\3281559620.py:1: RuntimeWarning: divide by zero encountered in true_divide\n",
      "  np.fromfunction(lambda i,j :i/j,(3,3))\n",
      "C:\\Users\\Rupali\\AppData\\Local\\Temp\\ipykernel_2468\\3281559620.py:1: RuntimeWarning: invalid value encountered in true_divide\n",
      "  np.fromfunction(lambda i,j :i/j,(3,3))\n"
     ]
    },
    {
     "data": {
      "text/plain": [
       "array([[nan, 0. , 0. ],\n",
       "       [inf, 1. , 0.5],\n",
       "       [inf, 2. , 1. ]])"
      ]
     },
     "execution_count": 7,
     "metadata": {},
     "output_type": "execute_result"
    }
   ],
   "source": [
    "np.fromfunction(lambda i,j :i/j,(3,3))"
   ]
  },
  {
   "cell_type": "code",
   "execution_count": 8,
   "id": "b236bc2b",
   "metadata": {},
   "outputs": [
    {
     "data": {
      "text/plain": [
       "array([1, 2, 3, 4])"
      ]
     },
     "execution_count": 8,
     "metadata": {},
     "output_type": "execute_result"
    }
   ],
   "source": [
    "np.fromstring(\"1,2,3,4\",sep=\",\",dtype=int)"
   ]
  },
  {
   "cell_type": "code",
   "execution_count": 9,
   "id": "94b6f9ba",
   "metadata": {},
   "outputs": [
    {
     "data": {
      "text/plain": [
       "array([1.+0.j, 2.+0.j, 3.+0.j, 4.+0.j])"
      ]
     },
     "execution_count": 9,
     "metadata": {},
     "output_type": "execute_result"
    }
   ],
   "source": [
    "np.fromstring(\"1,2,3,4\",sep=\",\",dtype=complex)"
   ]
  },
  {
   "cell_type": "code",
   "execution_count": 10,
   "id": "ed20c2d4",
   "metadata": {},
   "outputs": [
    {
     "data": {
      "text/plain": [
       "array([1., 2., 3., 4.])"
      ]
     },
     "execution_count": 10,
     "metadata": {},
     "output_type": "execute_result"
    }
   ],
   "source": [
    "np.fromstring(\"1,2,3,4\",sep=\",\",dtype=float)"
   ]
  },
  {
   "cell_type": "code",
   "execution_count": 11,
   "id": "63a63f99",
   "metadata": {},
   "outputs": [
    {
     "data": {
      "text/plain": [
       "array([0, 1, 2, 3, 4, 5])"
      ]
     },
     "execution_count": 11,
     "metadata": {},
     "output_type": "execute_result"
    }
   ],
   "source": [
    "np.arange(6)"
   ]
  },
  {
   "cell_type": "code",
   "execution_count": 12,
   "id": "2245e873",
   "metadata": {},
   "outputs": [
    {
     "data": {
      "text/plain": [
       "array([0., 1., 2., 3., 4., 5., 6.])"
      ]
     },
     "execution_count": 12,
     "metadata": {},
     "output_type": "execute_result"
    }
   ],
   "source": [
    "np.arange(6.6)"
   ]
  },
  {
   "cell_type": "code",
   "execution_count": 13,
   "id": "4598c551",
   "metadata": {},
   "outputs": [
    {
     "data": {
      "text/plain": [
       "array([6, 7])"
      ]
     },
     "execution_count": 13,
     "metadata": {},
     "output_type": "execute_result"
    }
   ],
   "source": [
    "np.arange(6,8,1)"
   ]
  },
  {
   "cell_type": "code",
   "execution_count": 14,
   "id": "111e9430",
   "metadata": {},
   "outputs": [
    {
     "data": {
      "text/plain": [
       "array([6, 7, 8, 9])"
      ]
     },
     "execution_count": 14,
     "metadata": {},
     "output_type": "execute_result"
    }
   ],
   "source": [
    "np.arange(6,10,1)"
   ]
  },
  {
   "cell_type": "code",
   "execution_count": 15,
   "id": "3d973c74",
   "metadata": {},
   "outputs": [
    {
     "data": {
      "text/plain": [
       "array([ 6,  8, 10])"
      ]
     },
     "execution_count": 15,
     "metadata": {},
     "output_type": "execute_result"
    }
   ],
   "source": [
    "np.arange(6,12,2)"
   ]
  },
  {
   "cell_type": "code",
   "execution_count": 17,
   "id": "22beb001",
   "metadata": {},
   "outputs": [
    {
     "data": {
      "text/plain": [
       "array([3.        , 3.10204082, 3.20408163, 3.30612245, 3.40816327,\n",
       "       3.51020408, 3.6122449 , 3.71428571, 3.81632653, 3.91836735,\n",
       "       4.02040816, 4.12244898, 4.2244898 , 4.32653061, 4.42857143,\n",
       "       4.53061224, 4.63265306, 4.73469388, 4.83673469, 4.93877551,\n",
       "       5.04081633, 5.14285714, 5.24489796, 5.34693878, 5.44897959,\n",
       "       5.55102041, 5.65306122, 5.75510204, 5.85714286, 5.95918367,\n",
       "       6.06122449, 6.16326531, 6.26530612, 6.36734694, 6.46938776,\n",
       "       6.57142857, 6.67346939, 6.7755102 , 6.87755102, 6.97959184,\n",
       "       7.08163265, 7.18367347, 7.28571429, 7.3877551 , 7.48979592,\n",
       "       7.59183673, 7.69387755, 7.79591837, 7.89795918, 8.        ])"
      ]
     },
     "execution_count": 17,
     "metadata": {},
     "output_type": "execute_result"
    }
   ],
   "source": [
    "np.linspace(3,8)"
   ]
  },
  {
   "cell_type": "code",
   "execution_count": 20,
   "id": "82b31834",
   "metadata": {},
   "outputs": [
    {
     "data": {
      "text/plain": [
       "array([1.  , 1.25, 1.5 , 1.75, 2.  ])"
      ]
     },
     "execution_count": 20,
     "metadata": {},
     "output_type": "execute_result"
    }
   ],
   "source": [
    "np.linspace(1,2,5)"
   ]
  },
  {
   "cell_type": "markdown",
   "id": "db5ffb58",
   "metadata": {},
   "source": [
    "np.zeros(5)"
   ]
  },
  {
   "cell_type": "code",
   "execution_count": 21,
   "id": "d2c2ddbc",
   "metadata": {},
   "outputs": [
    {
     "data": {
      "text/plain": [
       "array([0., 0., 0., 0., 0.])"
      ]
     },
     "execution_count": 21,
     "metadata": {},
     "output_type": "execute_result"
    }
   ],
   "source": [
    "np.zeros(5)"
   ]
  },
  {
   "cell_type": "code",
   "execution_count": 22,
   "id": "b4c03808",
   "metadata": {},
   "outputs": [
    {
     "data": {
      "text/plain": [
       "array([1., 1., 1., 1., 1.])"
      ]
     },
     "execution_count": 22,
     "metadata": {},
     "output_type": "execute_result"
    }
   ],
   "source": [
    "np.ones(5)"
   ]
  },
  {
   "cell_type": "code",
   "execution_count": 30,
   "id": "0ef9e78c",
   "metadata": {},
   "outputs": [
    {
     "data": {
      "text/plain": [
       "array([[[0., 0., 0., 0., 0.],\n",
       "        [0., 0., 0., 0., 0.],\n",
       "        [0., 0., 0., 0., 0.],\n",
       "        [0., 0., 0., 0., 0.]],\n",
       "\n",
       "       [[0., 0., 0., 0., 0.],\n",
       "        [0., 0., 0., 0., 0.],\n",
       "        [0., 0., 0., 0., 0.],\n",
       "        [0., 0., 0., 0., 0.]]])"
      ]
     },
     "execution_count": 30,
     "metadata": {},
     "output_type": "execute_result"
    }
   ],
   "source": [
    "np.zeros((2,4,5))"
   ]
  },
  {
   "cell_type": "code",
   "execution_count": 29,
   "id": "4c01189d",
   "metadata": {},
   "outputs": [
    {
     "data": {
      "text/plain": [
       "array([[[6., 6., 6.],\n",
       "        [6., 6., 6.],\n",
       "        [6., 6., 6.],\n",
       "        [6., 6., 6.]],\n",
       "\n",
       "       [[6., 6., 6.],\n",
       "        [6., 6., 6.],\n",
       "        [6., 6., 6.],\n",
       "        [6., 6., 6.]]])"
      ]
     },
     "execution_count": 29,
     "metadata": {},
     "output_type": "execute_result"
    }
   ],
   "source": [
    "np.ones((2,4,3))+5"
   ]
  },
  {
   "cell_type": "code",
   "execution_count": 23,
   "id": "63c06b2f",
   "metadata": {},
   "outputs": [
    {
     "data": {
      "text/plain": [
       "array([[1., 0., 0.],\n",
       "       [0., 1., 0.],\n",
       "       [0., 0., 1.]])"
      ]
     },
     "execution_count": 23,
     "metadata": {},
     "output_type": "execute_result"
    }
   ],
   "source": [
    "np.eye(3)"
   ]
  },
  {
   "cell_type": "code",
   "execution_count": 25,
   "id": "ec79fa63",
   "metadata": {},
   "outputs": [
    {
     "data": {
      "text/plain": [
       "array([1., 2., 3., 4., 5., 6.])"
      ]
     },
     "execution_count": 25,
     "metadata": {},
     "output_type": "execute_result"
    }
   ],
   "source": [
    "np.empty(6)"
   ]
  },
  {
   "cell_type": "code",
   "execution_count": 27,
   "id": "5ebe8765",
   "metadata": {},
   "outputs": [
    {
     "data": {
      "text/plain": [
       "array([2.        , 2.66666667, 3.33333333, 4.        ])"
      ]
     },
     "execution_count": 27,
     "metadata": {},
     "output_type": "execute_result"
    }
   ],
   "source": [
    "np.linspace(2,4,4,axis=0)"
   ]
  },
  {
   "cell_type": "code",
   "execution_count": 31,
   "id": "6ed1212e",
   "metadata": {},
   "outputs": [
    {
     "data": {
      "text/plain": [
       "array([[  100.        ,  1000.        ],\n",
       "       [  109.8541142 ,  1048.11313415],\n",
       "       [  120.67926406,  1098.54114199],\n",
       "       [  132.57113656,  1151.39539933],\n",
       "       [  145.63484775,  1206.79264064],\n",
       "       [  159.98587196,  1264.85521686],\n",
       "       [  175.75106249,  1325.71136559],\n",
       "       [  193.06977289,  1389.49549437],\n",
       "       [  212.09508879,  1456.3484775 ],\n",
       "       [  232.99518105,  1526.41796718],\n",
       "       [  255.95479227,  1599.85871961],\n",
       "       [  281.1768698 ,  1676.83293681],\n",
       "       [  308.88435965,  1757.51062485],\n",
       "       [  339.32217719,  1842.06996933],\n",
       "       [  372.75937203,  1930.69772888],\n",
       "       [  409.49150624,  2023.58964773],\n",
       "       [  449.8432669 ,  2120.95088792],\n",
       "       [  494.17133613,  2222.99648253],\n",
       "       [  542.86754393,  2329.95181052],\n",
       "       [  596.36233166,  2442.05309455],\n",
       "       [  655.12855686,  2559.5479227 ],\n",
       "       [  719.685673  ,  2682.69579528],\n",
       "       [  790.60432109,  2811.76869797],\n",
       "       [  868.51137375,  2947.05170255],\n",
       "       [  954.09547635,  3088.84359648],\n",
       "       [ 1048.11313415,  3237.45754282],\n",
       "       [ 1151.39539933,  3393.2217719 ],\n",
       "       [ 1264.85521686,  3556.48030622],\n",
       "       [ 1389.49549437,  3727.59372031],\n",
       "       [ 1526.41796718,  3906.93993705],\n",
       "       [ 1676.83293681,  4094.91506238],\n",
       "       [ 1842.06996933,  4291.93426013],\n",
       "       [ 2023.58964773,  4498.43266897],\n",
       "       [ 2222.99648253,  4714.86636346],\n",
       "       [ 2442.05309455,  4941.71336132],\n",
       "       [ 2682.69579528,  5179.47467923],\n",
       "       [ 2947.05170255,  5428.67543932],\n",
       "       [ 3237.45754282,  5689.86602902],\n",
       "       [ 3556.48030622,  5963.62331659],\n",
       "       [ 3906.93993705,  6250.55192527],\n",
       "       [ 4291.93426013,  6551.2855686 ],\n",
       "       [ 4714.86636346,  6866.48845004],\n",
       "       [ 5179.47467923,  7196.85673001],\n",
       "       [ 5689.86602902,  7543.12006335],\n",
       "       [ 6250.55192527,  7906.04321091],\n",
       "       [ 6866.48845004,  8286.42772855],\n",
       "       [ 7543.12006335,  8685.11373751],\n",
       "       [ 8286.42772855,  9102.98177992],\n",
       "       [ 9102.98177992,  9540.9547635 ],\n",
       "       [10000.        , 10000.        ]])"
      ]
     },
     "execution_count": 31,
     "metadata": {},
     "output_type": "execute_result"
    }
   ],
   "source": [
    "np.logspace([2,3],4)"
   ]
  },
  {
   "cell_type": "code",
   "execution_count": 34,
   "id": "6e1687f9",
   "metadata": {},
   "outputs": [],
   "source": [
    "d=np.linspace(4,5,40)"
   ]
  },
  {
   "cell_type": "code",
   "execution_count": 35,
   "id": "8d6a9739",
   "metadata": {},
   "outputs": [
    {
     "data": {
      "text/plain": [
       "array([4.        , 4.02564103, 4.05128205, 4.07692308, 4.1025641 ,\n",
       "       4.12820513, 4.15384615, 4.17948718, 4.20512821, 4.23076923,\n",
       "       4.25641026, 4.28205128, 4.30769231, 4.33333333, 4.35897436,\n",
       "       4.38461538, 4.41025641, 4.43589744, 4.46153846, 4.48717949,\n",
       "       4.51282051, 4.53846154, 4.56410256, 4.58974359, 4.61538462,\n",
       "       4.64102564, 4.66666667, 4.69230769, 4.71794872, 4.74358974,\n",
       "       4.76923077, 4.79487179, 4.82051282, 4.84615385, 4.87179487,\n",
       "       4.8974359 , 4.92307692, 4.94871795, 4.97435897, 5.        ])"
      ]
     },
     "execution_count": 35,
     "metadata": {},
     "output_type": "execute_result"
    }
   ],
   "source": [
    "d"
   ]
  },
  {
   "cell_type": "code",
   "execution_count": 38,
   "id": "3974b1b1",
   "metadata": {},
   "outputs": [
    {
     "data": {
      "text/plain": [
       "(40,)"
      ]
     },
     "execution_count": 38,
     "metadata": {},
     "output_type": "execute_result"
    }
   ],
   "source": [
    "d.shape"
   ]
  },
  {
   "cell_type": "code",
   "execution_count": 39,
   "id": "8ee16b93",
   "metadata": {},
   "outputs": [
    {
     "data": {
      "text/plain": [
       "array([[4.        ],\n",
       "       [4.02564103],\n",
       "       [4.05128205],\n",
       "       [4.07692308],\n",
       "       [4.1025641 ],\n",
       "       [4.12820513],\n",
       "       [4.15384615],\n",
       "       [4.17948718],\n",
       "       [4.20512821],\n",
       "       [4.23076923],\n",
       "       [4.25641026],\n",
       "       [4.28205128],\n",
       "       [4.30769231],\n",
       "       [4.33333333],\n",
       "       [4.35897436],\n",
       "       [4.38461538],\n",
       "       [4.41025641],\n",
       "       [4.43589744],\n",
       "       [4.46153846],\n",
       "       [4.48717949],\n",
       "       [4.51282051],\n",
       "       [4.53846154],\n",
       "       [4.56410256],\n",
       "       [4.58974359],\n",
       "       [4.61538462],\n",
       "       [4.64102564],\n",
       "       [4.66666667],\n",
       "       [4.69230769],\n",
       "       [4.71794872],\n",
       "       [4.74358974],\n",
       "       [4.76923077],\n",
       "       [4.79487179],\n",
       "       [4.82051282],\n",
       "       [4.84615385],\n",
       "       [4.87179487],\n",
       "       [4.8974359 ],\n",
       "       [4.92307692],\n",
       "       [4.94871795],\n",
       "       [4.97435897],\n",
       "       [5.        ]])"
      ]
     },
     "execution_count": 39,
     "metadata": {},
     "output_type": "execute_result"
    }
   ],
   "source": [
    "d.reshape(40,1)"
   ]
  },
  {
   "cell_type": "code",
   "execution_count": 40,
   "id": "b17e1af5",
   "metadata": {},
   "outputs": [
    {
     "data": {
      "text/plain": [
       "array([[4.        , 4.02564103],\n",
       "       [4.05128205, 4.07692308],\n",
       "       [4.1025641 , 4.12820513],\n",
       "       [4.15384615, 4.17948718],\n",
       "       [4.20512821, 4.23076923],\n",
       "       [4.25641026, 4.28205128],\n",
       "       [4.30769231, 4.33333333],\n",
       "       [4.35897436, 4.38461538],\n",
       "       [4.41025641, 4.43589744],\n",
       "       [4.46153846, 4.48717949],\n",
       "       [4.51282051, 4.53846154],\n",
       "       [4.56410256, 4.58974359],\n",
       "       [4.61538462, 4.64102564],\n",
       "       [4.66666667, 4.69230769],\n",
       "       [4.71794872, 4.74358974],\n",
       "       [4.76923077, 4.79487179],\n",
       "       [4.82051282, 4.84615385],\n",
       "       [4.87179487, 4.8974359 ],\n",
       "       [4.92307692, 4.94871795],\n",
       "       [4.97435897, 5.        ]])"
      ]
     },
     "execution_count": 40,
     "metadata": {},
     "output_type": "execute_result"
    }
   ],
   "source": [
    "d.reshape(20,2)"
   ]
  },
  {
   "cell_type": "code",
   "execution_count": 43,
   "id": "18c1488f",
   "metadata": {},
   "outputs": [
    {
     "data": {
      "text/plain": [
       "array([[[4.        , 4.02564103, 4.05128205, 4.07692308, 4.1025641 ,\n",
       "         4.12820513, 4.15384615, 4.17948718, 4.20512821, 4.23076923,\n",
       "         4.25641026, 4.28205128, 4.30769231, 4.33333333, 4.35897436,\n",
       "         4.38461538, 4.41025641, 4.43589744, 4.46153846, 4.48717949]],\n",
       "\n",
       "       [[4.51282051, 4.53846154, 4.56410256, 4.58974359, 4.61538462,\n",
       "         4.64102564, 4.66666667, 4.69230769, 4.71794872, 4.74358974,\n",
       "         4.76923077, 4.79487179, 4.82051282, 4.84615385, 4.87179487,\n",
       "         4.8974359 , 4.92307692, 4.94871795, 4.97435897, 5.        ]]])"
      ]
     },
     "execution_count": 43,
     "metadata": {},
     "output_type": "execute_result"
    }
   ],
   "source": [
    "d.reshape(2,1,20)"
   ]
  },
  {
   "cell_type": "code",
   "execution_count": 44,
   "id": "9305de73",
   "metadata": {},
   "outputs": [
    {
     "data": {
      "text/plain": [
       "array([0.49561996, 0.70457687, 0.15264733])"
      ]
     },
     "execution_count": 44,
     "metadata": {},
     "output_type": "execute_result"
    }
   ],
   "source": [
    "np.random.rand(3)"
   ]
  },
  {
   "cell_type": "code",
   "execution_count": 45,
   "id": "f2203b01",
   "metadata": {},
   "outputs": [
    {
     "data": {
      "text/plain": [
       "array([[0.90089512, 0.98648484, 0.19819266, 0.40702282],\n",
       "       [0.47687837, 0.27137055, 0.4690501 , 0.08778327],\n",
       "       [0.60371208, 0.56989153, 0.56054629, 0.22375387],\n",
       "       [0.44862808, 0.07921152, 0.21821993, 0.0949636 ],\n",
       "       [0.42092153, 0.09960101, 0.89767965, 0.69792321]])"
      ]
     },
     "execution_count": 45,
     "metadata": {},
     "output_type": "execute_result"
    }
   ],
   "source": [
    "np.random.rand(5,4)"
   ]
  },
  {
   "cell_type": "code",
   "execution_count": 46,
   "id": "4533f2da",
   "metadata": {},
   "outputs": [
    {
     "data": {
      "text/plain": [
       "array([[0.27000505, 0.05594589, 0.60850574, 0.04339828, 0.46636821],\n",
       "       [0.48903224, 0.5951478 , 0.23658729, 0.39550763, 0.08993681],\n",
       "       [0.74947372, 0.62319441, 0.81507786, 0.05906991, 0.80946351],\n",
       "       [0.91336479, 0.95725117, 0.3015309 , 0.34936833, 0.20584569],\n",
       "       [0.29522664, 0.52807856, 0.17109853, 0.26659156, 0.07542187]])"
      ]
     },
     "execution_count": 46,
     "metadata": {},
     "output_type": "execute_result"
    }
   ],
   "source": [
    "np.random.rand(5,5)"
   ]
  },
  {
   "cell_type": "code",
   "execution_count": 47,
   "id": "2efb81a9",
   "metadata": {},
   "outputs": [
    {
     "data": {
      "text/plain": [
       "array([[[0.00107786, 0.71587857, 0.10695401],\n",
       "        [0.99562288, 0.64103549, 0.5955636 ]],\n",
       "\n",
       "       [[0.77325377, 0.47116049, 0.74966501],\n",
       "        [0.92208112, 0.29800719, 0.18897144]]])"
      ]
     },
     "execution_count": 47,
     "metadata": {},
     "output_type": "execute_result"
    }
   ],
   "source": [
    "np.random.rand(2,2,3)"
   ]
  },
  {
   "cell_type": "code",
   "execution_count": 48,
   "id": "426445ac",
   "metadata": {},
   "outputs": [
    {
     "data": {
      "text/plain": [
       "3"
      ]
     },
     "execution_count": 48,
     "metadata": {},
     "output_type": "execute_result"
    }
   ],
   "source": [
    "np.random.randint(6)"
   ]
  },
  {
   "cell_type": "code",
   "execution_count": 49,
   "id": "43472fec",
   "metadata": {},
   "outputs": [
    {
     "data": {
      "text/plain": [
       "array([29, 22])"
      ]
     },
     "execution_count": 49,
     "metadata": {},
     "output_type": "execute_result"
    }
   ],
   "source": [
    "np.random.randint((5,6),40)"
   ]
  },
  {
   "cell_type": "code",
   "execution_count": 50,
   "id": "5bcb3334",
   "metadata": {},
   "outputs": [
    {
     "data": {
      "text/plain": [
       "array([5, 5, 5, 5, 5, 5, 5, 5, 5, 5])"
      ]
     },
     "execution_count": 50,
     "metadata": {},
     "output_type": "execute_result"
    }
   ],
   "source": [
    "np.random.randint(5,6,10)"
   ]
  },
  {
   "cell_type": "code",
   "execution_count": 51,
   "id": "f404d16c",
   "metadata": {},
   "outputs": [
    {
     "data": {
      "text/plain": [
       "array([[-1.51697844, -0.64253176, -0.56030898,  0.19422952],\n",
       "       [ 0.64137026, -1.58149955,  0.15943622,  0.70467089],\n",
       "       [-1.25481682,  0.79781331, -1.45891094,  0.68309744],\n",
       "       [-0.30558343, -0.9296473 , -1.29167097, -1.07066177]])"
      ]
     },
     "execution_count": 51,
     "metadata": {},
     "output_type": "execute_result"
    }
   ],
   "source": [
    "np.random.randn(4,4)"
   ]
  },
  {
   "cell_type": "code",
   "execution_count": 52,
   "id": "dd6e3d59",
   "metadata": {},
   "outputs": [],
   "source": [
    "arr=np.random.randint(3,9,(3,3))"
   ]
  },
  {
   "cell_type": "code",
   "execution_count": 53,
   "id": "13460b5a",
   "metadata": {},
   "outputs": [
    {
     "data": {
      "text/plain": [
       "array([[5, 5, 7],\n",
       "       [3, 4, 7],\n",
       "       [8, 7, 8]])"
      ]
     },
     "execution_count": 53,
     "metadata": {},
     "output_type": "execute_result"
    }
   ],
   "source": [
    "arr"
   ]
  },
  {
   "cell_type": "code",
   "execution_count": 55,
   "id": "cf48ff38",
   "metadata": {},
   "outputs": [
    {
     "data": {
      "text/plain": [
       "array([[[5, 5, 7, 3, 4, 7, 8, 7, 8]]])"
      ]
     },
     "execution_count": 55,
     "metadata": {},
     "output_type": "execute_result"
    }
   ],
   "source": [
    "arr.reshape(1,1,9)"
   ]
  },
  {
   "cell_type": "code",
   "execution_count": 56,
   "id": "44a2daa5",
   "metadata": {},
   "outputs": [
    {
     "data": {
      "text/plain": [
       "array([[[5],\n",
       "        [5],\n",
       "        [7]],\n",
       "\n",
       "       [[3],\n",
       "        [4],\n",
       "        [7]],\n",
       "\n",
       "       [[8],\n",
       "        [7],\n",
       "        [8]]])"
      ]
     },
     "execution_count": 56,
     "metadata": {},
     "output_type": "execute_result"
    }
   ],
   "source": [
    "arr.reshape(3,3,1)"
   ]
  },
  {
   "cell_type": "code",
   "execution_count": 57,
   "id": "79164a98",
   "metadata": {},
   "outputs": [
    {
     "data": {
      "text/plain": [
       "array([[5, 5, 7],\n",
       "       [3, 4, 7],\n",
       "       [8, 7, 8]])"
      ]
     },
     "execution_count": 57,
     "metadata": {},
     "output_type": "execute_result"
    }
   ],
   "source": [
    "arr.reshape(3,-1)"
   ]
  },
  {
   "cell_type": "code",
   "execution_count": 58,
   "id": "3d64af32",
   "metadata": {},
   "outputs": [
    {
     "data": {
      "text/plain": [
       "array([[5, 5, 7],\n",
       "       [3, 4, 7],\n",
       "       [8, 7, 8]])"
      ]
     },
     "execution_count": 58,
     "metadata": {},
     "output_type": "execute_result"
    }
   ],
   "source": [
    "arr.reshape(3,-4556)"
   ]
  },
  {
   "cell_type": "code",
   "execution_count": 60,
   "id": "76bf5858",
   "metadata": {},
   "outputs": [
    {
     "data": {
      "text/plain": [
       "8"
      ]
     },
     "execution_count": 60,
     "metadata": {},
     "output_type": "execute_result"
    }
   ],
   "source": [
    "arr.max()"
   ]
  },
  {
   "cell_type": "code",
   "execution_count": 61,
   "id": "e2f0f1fe",
   "metadata": {},
   "outputs": [
    {
     "data": {
      "text/plain": [
       "3"
      ]
     },
     "execution_count": 61,
     "metadata": {},
     "output_type": "execute_result"
    }
   ],
   "source": [
    "arr.min()"
   ]
  },
  {
   "cell_type": "code",
   "execution_count": 62,
   "id": "fc9bf509",
   "metadata": {},
   "outputs": [],
   "source": [
    "arr=np.random.randint(4,100,(5,5))"
   ]
  },
  {
   "cell_type": "code",
   "execution_count": 64,
   "id": "de993d45",
   "metadata": {},
   "outputs": [
    {
     "data": {
      "text/plain": [
       "array([[47, 99, 77, 68, 57],\n",
       "       [ 4, 53, 69, 57, 83],\n",
       "       [65, 90, 34, 13,  5],\n",
       "       [69, 48, 91, 39, 65],\n",
       "       [40, 39, 10, 32, 90]])"
      ]
     },
     "execution_count": 64,
     "metadata": {},
     "output_type": "execute_result"
    }
   ],
   "source": [
    "arr"
   ]
  },
  {
   "cell_type": "code",
   "execution_count": 65,
   "id": "3f5e3090",
   "metadata": {},
   "outputs": [
    {
     "data": {
      "text/plain": [
       "array([[39, 65],\n",
       "       [32, 90]])"
      ]
     },
     "execution_count": 65,
     "metadata": {},
     "output_type": "execute_result"
    }
   ],
   "source": [
    "arr[3:,3:]"
   ]
  },
  {
   "cell_type": "code",
   "execution_count": 66,
   "id": "5b338e7e",
   "metadata": {},
   "outputs": [
    {
     "data": {
      "text/plain": [
       "array([[34, 13,  5],\n",
       "       [91, 39, 65],\n",
       "       [10, 32, 90]])"
      ]
     },
     "execution_count": 66,
     "metadata": {},
     "output_type": "execute_result"
    }
   ],
   "source": [
    "arr[2:,2:]"
   ]
  },
  {
   "cell_type": "code",
   "execution_count": 67,
   "id": "7c42f359",
   "metadata": {},
   "outputs": [
    {
     "data": {
      "text/plain": [
       "array([[99, 68],\n",
       "       [53, 57],\n",
       "       [90, 13],\n",
       "       [48, 39],\n",
       "       [39, 32]])"
      ]
     },
     "execution_count": 67,
     "metadata": {},
     "output_type": "execute_result"
    }
   ],
   "source": [
    "arr[:,[1,3]]"
   ]
  },
  {
   "cell_type": "code",
   "execution_count": 70,
   "id": "145aef81",
   "metadata": {},
   "outputs": [
    {
     "data": {
      "text/plain": [
       "array([[47, 99, 77, 68, 57],\n",
       "       [ 4, 53, 69, 57, 83],\n",
       "       [65, 90, 34, 13,  5],\n",
       "       [69, 48, 91, 39, 65],\n",
       "       [40, 39, 10, 32, 90]])"
      ]
     },
     "execution_count": 70,
     "metadata": {},
     "output_type": "execute_result"
    }
   ],
   "source": [
    "arr"
   ]
  },
  {
   "cell_type": "code",
   "execution_count": 68,
   "id": "ef10d2d8",
   "metadata": {},
   "outputs": [
    {
     "data": {
      "text/plain": [
       "array([[ True,  True,  True,  True,  True],\n",
       "       [False,  True,  True,  True,  True],\n",
       "       [ True,  True,  True,  True, False],\n",
       "       [ True,  True,  True,  True,  True],\n",
       "       [ True,  True, False,  True,  True]])"
      ]
     },
     "execution_count": 68,
     "metadata": {},
     "output_type": "execute_result"
    }
   ],
   "source": [
    "arr>10"
   ]
  },
  {
   "cell_type": "code",
   "execution_count": 69,
   "id": "12f04ddb",
   "metadata": {},
   "outputs": [
    {
     "data": {
      "text/plain": [
       "array([47, 99, 77, 68, 57, 53, 69, 57, 83, 65, 90, 34, 13, 69, 48, 91, 39,\n",
       "       65, 40, 39, 32, 90])"
      ]
     },
     "execution_count": 69,
     "metadata": {},
     "output_type": "execute_result"
    }
   ],
   "source": [
    "arr[arr>10]"
   ]
  },
  {
   "cell_type": "code",
   "execution_count": 71,
   "id": "d08b0eb2",
   "metadata": {},
   "outputs": [
    {
     "data": {
      "text/plain": [
       "array([[2209, 9801, 5929, 4624, 3249],\n",
       "       [  16, 2809, 4761, 3249, 6889],\n",
       "       [4225, 8100, 1156,  169,   25],\n",
       "       [4761, 2304, 8281, 1521, 4225],\n",
       "       [1600, 1521,  100, 1024, 8100]])"
      ]
     },
     "execution_count": 71,
     "metadata": {},
     "output_type": "execute_result"
    }
   ],
   "source": [
    "arr*arr"
   ]
  },
  {
   "cell_type": "code",
   "execution_count": 72,
   "id": "95a37583",
   "metadata": {},
   "outputs": [],
   "source": [
    "arr1=np.random.randint(2,5,(2,2))"
   ]
  },
  {
   "cell_type": "code",
   "execution_count": 73,
   "id": "edd5ed15",
   "metadata": {},
   "outputs": [
    {
     "data": {
      "text/plain": [
       "array([[4, 2],\n",
       "       [4, 2]])"
      ]
     },
     "execution_count": 73,
     "metadata": {},
     "output_type": "execute_result"
    }
   ],
   "source": [
    "arr1"
   ]
  },
  {
   "cell_type": "code",
   "execution_count": 74,
   "id": "9474772a",
   "metadata": {},
   "outputs": [],
   "source": [
    "arr2=np.random.randint(2,5,(2,2))"
   ]
  },
  {
   "cell_type": "code",
   "execution_count": 75,
   "id": "70939f4a",
   "metadata": {},
   "outputs": [
    {
     "data": {
      "text/plain": [
       "array([[2, 4],\n",
       "       [3, 3]])"
      ]
     },
     "execution_count": 75,
     "metadata": {},
     "output_type": "execute_result"
    }
   ],
   "source": [
    "arr2"
   ]
  },
  {
   "cell_type": "code",
   "execution_count": 76,
   "id": "50e8d2bb",
   "metadata": {},
   "outputs": [
    {
     "data": {
      "text/plain": [
       "array([[ 8,  8],\n",
       "       [12,  6]])"
      ]
     },
     "execution_count": 76,
     "metadata": {},
     "output_type": "execute_result"
    }
   ],
   "source": [
    "arr1*arr2"
   ]
  },
  {
   "cell_type": "code",
   "execution_count": 77,
   "id": "9e2b2272",
   "metadata": {},
   "outputs": [
    {
     "data": {
      "text/plain": [
       "array([[14, 22],\n",
       "       [14, 22]])"
      ]
     },
     "execution_count": 77,
     "metadata": {},
     "output_type": "execute_result"
    }
   ],
   "source": [
    "arr1@arr2"
   ]
  },
  {
   "cell_type": "code",
   "execution_count": 78,
   "id": "018f9400",
   "metadata": {},
   "outputs": [
    {
     "data": {
      "text/plain": [
       "array([[2209, 9801, 5929, 4624, 3249],\n",
       "       [  16, 2809, 4761, 3249, 6889],\n",
       "       [4225, 8100, 1156,  169,   25],\n",
       "       [4761, 2304, 8281, 1521, 4225],\n",
       "       [1600, 1521,  100, 1024, 8100]], dtype=int32)"
      ]
     },
     "execution_count": 78,
     "metadata": {},
     "output_type": "execute_result"
    }
   ],
   "source": [
    "arr**2"
   ]
  },
  {
   "cell_type": "code",
   "execution_count": 79,
   "id": "73c7cec2",
   "metadata": {},
   "outputs": [
    {
     "name": "stderr",
     "output_type": "stream",
     "text": [
      "C:\\Users\\Rupali\\AppData\\Local\\Temp\\ipykernel_2468\\4291252909.py:1: RuntimeWarning: divide by zero encountered in true_divide\n",
      "  arr/0\n"
     ]
    },
    {
     "data": {
      "text/plain": [
       "array([[inf, inf, inf, inf, inf],\n",
       "       [inf, inf, inf, inf, inf],\n",
       "       [inf, inf, inf, inf, inf],\n",
       "       [inf, inf, inf, inf, inf],\n",
       "       [inf, inf, inf, inf, inf]])"
      ]
     },
     "execution_count": 79,
     "metadata": {},
     "output_type": "execute_result"
    }
   ],
   "source": [
    "arr/0"
   ]
  },
  {
   "cell_type": "code",
   "execution_count": 80,
   "id": "9b460f59",
   "metadata": {},
   "outputs": [
    {
     "data": {
      "text/plain": [
       "array([[1.38629436, 0.69314718],\n",
       "       [1.38629436, 0.69314718]])"
      ]
     },
     "execution_count": 80,
     "metadata": {},
     "output_type": "execute_result"
    }
   ],
   "source": [
    "np.log(arr1) #log value"
   ]
  },
  {
   "cell_type": "code",
   "execution_count": 83,
   "id": "2522c898",
   "metadata": {},
   "outputs": [
    {
     "data": {
      "text/plain": [
       "array([[0.77770241, 0.23754122, 0.82427853, 0.9657492 ],\n",
       "       [0.97260111, 0.45344925, 0.60904246, 0.77552651],\n",
       "       [0.64161334, 0.72201823, 0.03503652, 0.29844947]])"
      ]
     },
     "execution_count": 83,
     "metadata": {},
     "output_type": "execute_result"
    }
   ],
   "source": [
    "np.random.seed(13)\n",
    "np.random.rand(3,4)"
   ]
  },
  {
   "cell_type": "code",
   "execution_count": 89,
   "id": "3618a2db",
   "metadata": {},
   "outputs": [
    {
     "data": {
      "text/plain": [
       "array([[0.4359949 , 0.02592623, 0.54966248, 0.43532239, 0.4203678 ],\n",
       "       [0.33033482, 0.20464863, 0.61927097, 0.29965467, 0.26682728],\n",
       "       [0.62113383, 0.52914209, 0.13457995, 0.51357812, 0.18443987]])"
      ]
     },
     "execution_count": 89,
     "metadata": {},
     "output_type": "execute_result"
    }
   ],
   "source": [
    "np.random.seed(2)\n",
    "np.random.rand(3,5)"
   ]
  },
  {
   "cell_type": "markdown",
   "id": "fd2b2550",
   "metadata": {},
   "source": []
  }
 ],
 "metadata": {
  "kernelspec": {
   "display_name": "Python 3 (ipykernel)",
   "language": "python",
   "name": "python3"
  },
  "language_info": {
   "codemirror_mode": {
    "name": "ipython",
    "version": 3
   },
   "file_extension": ".py",
   "mimetype": "text/x-python",
   "name": "python",
   "nbconvert_exporter": "python",
   "pygments_lexer": "ipython3",
   "version": "3.9.12"
  }
 },
 "nbformat": 4,
 "nbformat_minor": 5
}
