{
 "cells": [
  {
   "cell_type": "code",
   "execution_count": 5,
   "id": "64a1a3bf",
   "metadata": {},
   "outputs": [
    {
     "data": {
      "text/plain": [
       "([1, 2, 3, 4], [1, 2, 3, 4])"
      ]
     },
     "execution_count": 5,
     "metadata": {},
     "output_type": "execute_result"
    }
   ],
   "source": [
    "list1=[1,2,3,4]\n",
    "list2=list1 # mean same memory location\n",
    "\n",
    "list1,list2"
   ]
  },
  {
   "cell_type": "code",
   "execution_count": 8,
   "id": "7232e3ac",
   "metadata": {},
   "outputs": [
    {
     "name": "stdout",
     "output_type": "stream",
     "text": [
      "2271395498560\n",
      "2271395498560\n"
     ]
    }
   ],
   "source": [
    "list2[1]=100\n",
    "\n",
    "print(id(list2))\n",
    "print(id(list1))"
   ]
  },
  {
   "cell_type": "code",
   "execution_count": 12,
   "id": "e1242e2a",
   "metadata": {},
   "outputs": [
    {
     "name": "stdout",
     "output_type": "stream",
     "text": [
      "old list :  [[1, 2, 3], [4, 5, 6], [7, 8, 9]]\n",
      "ID of old list :  2271424027008\n",
      "new list :  [[1, 2, 3], [4, 5, 6], [7, 8, 9]]\n",
      "ID of new list :  2271424027008\n"
     ]
    }
   ],
   "source": [
    "old_list=[[1,2,3],[4,5,6],[7,8,'a']]\n",
    "new_list=old_list\n",
    "\n",
    "new_list[2][2]=9\n",
    "\n",
    "print(\"old list : \",old_list)\n",
    "print(\"ID of old list : \",id(old_list))\n",
    "\n",
    "print(\"new list : \",new_list)\n",
    "print(\"ID of new list : \",id(new_list))\n",
    "\n"
   ]
  },
  {
   "cell_type": "code",
   "execution_count": 15,
   "id": "6838a718",
   "metadata": {},
   "outputs": [
    {
     "data": {
      "text/plain": [
       "([1, 2, 3, 4], [1, 2, 3, 4])"
      ]
     },
     "execution_count": 15,
     "metadata": {},
     "output_type": "execute_result"
    }
   ],
   "source": [
    "list1=[1,2,3,4]\n",
    "list2=list1.copy()    #  make a different memory location\n",
    "\n",
    "list1,list2"
   ]
  },
  {
   "cell_type": "code",
   "execution_count": 16,
   "id": "7829f2d0",
   "metadata": {},
   "outputs": [
    {
     "name": "stdout",
     "output_type": "stream",
     "text": [
      "2271424101824\n",
      "2271424090624\n"
     ]
    }
   ],
   "source": [
    "print(id(list1))\n",
    "print(id(list2))"
   ]
  },
  {
   "cell_type": "code",
   "execution_count": 17,
   "id": "311ecf61",
   "metadata": {},
   "outputs": [],
   "source": [
    "# Shallow copy nested list"
   ]
  },
  {
   "cell_type": "code",
   "execution_count": 20,
   "id": "c278189c",
   "metadata": {},
   "outputs": [
    {
     "data": {
      "text/plain": [
       "[[1, 2, 3, 4], [5, 6, 23, 8]]"
      ]
     },
     "execution_count": 20,
     "metadata": {},
     "output_type": "execute_result"
    }
   ],
   "source": [
    "list1=[[1,2,3,4],[5,6,23,8]]\n",
    "list2=list1.copy()\n",
    "\n",
    "list1"
   ]
  },
  {
   "cell_type": "code",
   "execution_count": 21,
   "id": "b4087165",
   "metadata": {},
   "outputs": [
    {
     "data": {
      "text/plain": [
       "[[1, 2, 3, 4], [5, 6, 23, 8]]"
      ]
     },
     "execution_count": 21,
     "metadata": {},
     "output_type": "execute_result"
    }
   ],
   "source": [
    "list2"
   ]
  },
  {
   "cell_type": "code",
   "execution_count": 23,
   "id": "37b0c2d4",
   "metadata": {},
   "outputs": [],
   "source": [
    "list1[1][0]=100\n"
   ]
  },
  {
   "cell_type": "code",
   "execution_count": 24,
   "id": "2076fc9f",
   "metadata": {},
   "outputs": [
    {
     "data": {
      "text/plain": [
       "[[1, 2, 3, 4], [100, 6, 23, 8]]"
      ]
     },
     "execution_count": 24,
     "metadata": {},
     "output_type": "execute_result"
    }
   ],
   "source": [
    "list1"
   ]
  },
  {
   "cell_type": "code",
   "execution_count": 25,
   "id": "4954c54b",
   "metadata": {},
   "outputs": [
    {
     "data": {
      "text/plain": [
       "[[1, 2, 3, 4], [100, 6, 23, 8]]"
      ]
     },
     "execution_count": 25,
     "metadata": {},
     "output_type": "execute_result"
    }
   ],
   "source": [
    "list2"
   ]
  },
  {
   "cell_type": "code",
   "execution_count": 26,
   "id": "15b94717",
   "metadata": {},
   "outputs": [
    {
     "name": "stdout",
     "output_type": "stream",
     "text": [
      "2271424026880\n",
      "2271424026048\n"
     ]
    }
   ],
   "source": [
    "print(id(list1))\n",
    "print(id(list2))"
   ]
  },
  {
   "cell_type": "code",
   "execution_count": 27,
   "id": "8719564a",
   "metadata": {},
   "outputs": [],
   "source": [
    "#  deep copy"
   ]
  },
  {
   "cell_type": "code",
   "execution_count": 28,
   "id": "2dc5cc09",
   "metadata": {},
   "outputs": [
    {
     "name": "stdout",
     "output_type": "stream",
     "text": [
      "Old List :  2271424028480\n",
      "New List :  2271424101248\n"
     ]
    }
   ],
   "source": [
    "import copy\n",
    "\n",
    "old_list=[[1,2,3],[4,5,6],[7,8,9]]\n",
    "new_list=copy.deepcopy(old_list) #  defferent memory location \n",
    "\n",
    "print(\"Old List : \",id(old_list))\n",
    "print(\"New List : \",id(new_list))"
   ]
  },
  {
   "cell_type": "code",
   "execution_count": 29,
   "id": "8f510784",
   "metadata": {},
   "outputs": [
    {
     "name": "stdout",
     "output_type": "stream",
     "text": [
      "Old list: [[1, 2, 3], [4, 5, 6], [7, 8, 100]]\n",
      "New list: [[1, 2, 3], [4, 5, 6], [7, 8, 100]]\n",
      "Old list: 2271423685952\n",
      "New list: 2271424032256\n"
     ]
    }
   ],
   "source": [
    "import copy\n",
    "\n",
    "old_list = [[1, 2, 3], [4, 5, 6], [7, 8, 9]]\n",
    "new_list = copy.copy(old_list)\n",
    "new_list[2][2] = 100\n",
    "print(\"Old list:\", old_list)\n",
    "print(\"New list:\", new_list)\n",
    "print(\"Old list:\", id(old_list))\n",
    "print(\"New list:\", id(new_list))\n"
   ]
  },
  {
   "cell_type": "code",
   "execution_count": null,
   "id": "8d60fedb",
   "metadata": {},
   "outputs": [],
   "source": []
  }
 ],
 "metadata": {
  "kernelspec": {
   "display_name": "Python 3 (ipykernel)",
   "language": "python",
   "name": "python3"
  },
  "language_info": {
   "codemirror_mode": {
    "name": "ipython",
    "version": 3
   },
   "file_extension": ".py",
   "mimetype": "text/x-python",
   "name": "python",
   "nbconvert_exporter": "python",
   "pygments_lexer": "ipython3",
   "version": "3.9.12"
  }
 },
 "nbformat": 4,
 "nbformat_minor": 5
}
