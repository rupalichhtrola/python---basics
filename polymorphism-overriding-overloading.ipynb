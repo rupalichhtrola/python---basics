{
 "cells": [
  {
   "cell_type": "markdown",
   "id": "71d4ff57",
   "metadata": {},
   "source": [
    "# Polymorphism"
   ]
  },
  {
   "cell_type": "code",
   "execution_count": 2,
   "id": "6c53787d",
   "metadata": {},
   "outputs": [
    {
     "data": {
      "text/plain": [
       "7"
      ]
     },
     "execution_count": 2,
     "metadata": {},
     "output_type": "execute_result"
    }
   ],
   "source": [
    "def test(a,b):\n",
    "    return a+b\n",
    "\n",
    "test(2,5)  # addition"
   ]
  },
  {
   "cell_type": "code",
   "execution_count": 4,
   "id": "79d8670b",
   "metadata": {},
   "outputs": [
    {
     "data": {
      "text/plain": [
       "'Rupali Chhatrola'"
      ]
     },
     "execution_count": 4,
     "metadata": {},
     "output_type": "execute_result"
    }
   ],
   "source": [
    "test(\"Rupali\",\" Chhatrola\")    # concate"
   ]
  },
  {
   "cell_type": "code",
   "execution_count": 5,
   "id": "ef785cf4",
   "metadata": {},
   "outputs": [
    {
     "name": "stdout",
     "output_type": "stream",
     "text": [
      "6\n"
     ]
    }
   ],
   "source": [
    "print(len(\"Rupali\"))"
   ]
  },
  {
   "cell_type": "code",
   "execution_count": 6,
   "id": "4639a3a1",
   "metadata": {},
   "outputs": [
    {
     "name": "stdout",
     "output_type": "stream",
     "text": [
      "3\n"
     ]
    }
   ],
   "source": [
    "print(len([1,2,3]))"
   ]
  },
  {
   "cell_type": "code",
   "execution_count": 8,
   "id": "cc4298d0",
   "metadata": {},
   "outputs": [
    {
     "name": "stdout",
     "output_type": "stream",
     "text": [
      "6\n",
      "4\n",
      "2\n"
     ]
    }
   ],
   "source": [
    "print(len(\"rupali\"))\n",
    "print(len([\"Python\",\"Java\",\"C\",\"C++\"]))\n",
    "print(len({\"Name\":\"Rupali\",\"Address\":\"Vadodara\"}))"
   ]
  },
  {
   "cell_type": "code",
   "execution_count": 12,
   "id": "06711417",
   "metadata": {},
   "outputs": [
    {
     "name": "stdout",
     "output_type": "stream",
     "text": [
      "This is my Instagram Story\n",
      "This is my Facebook Story\n"
     ]
    }
   ],
   "source": [
    "class insta:\n",
    "    def stories(self):\n",
    "        print(\"This is my Instagram Story\")\n",
    "        \n",
    "class facebook:\n",
    "    def stories(self):\n",
    "        print(\"This is my Facebook Story\")\n",
    "        \n",
    "        \n",
    "i=insta()\n",
    "f=facebook()\n",
    "i.stories()\n",
    "f.stories()"
   ]
  },
  {
   "cell_type": "code",
   "execution_count": 14,
   "id": "68911f27",
   "metadata": {},
   "outputs": [
    {
     "name": "stdout",
     "output_type": "stream",
     "text": [
      "New Delhi is the capital of India\n",
      "Hindi is the most widely spoken language in India\n",
      "India is a developing country\n",
      "-------------------------------------\n",
      "Washington is the capital of USA\n",
      "English is the language of USA\n",
      "USA is developed counrty\n"
     ]
    }
   ],
   "source": [
    "class india():\n",
    "    def capital(self):\n",
    "        print(\"New Delhi is the capital of India\")\n",
    "        \n",
    "    def language(self):\n",
    "        print(\"Hindi is the most widely spoken language in India\")\n",
    "        \n",
    "    def type(self):\n",
    "        print(\"India is a developing country\")\n",
    "        print(\"-------------------------------------\")\n",
    "        \n",
    "class usa():\n",
    "    def capital(self):\n",
    "        print(\"Washington is the capital of USA\")\n",
    "        \n",
    "    def language(self):\n",
    "        print(\"English is the language of USA\")\n",
    "        \n",
    "    def type(self):\n",
    "        print(\"USA is developed counrty\")\n",
    "        \n",
    "i=india()\n",
    "u=usa()\n",
    "\n",
    "for i in (i,u):\n",
    "    i.capital()\n",
    "    i.language()\n",
    "    i.type()"
   ]
  },
  {
   "cell_type": "code",
   "execution_count": null,
   "id": "49a43f89",
   "metadata": {},
   "outputs": [],
   "source": [
    "class test(Exception):\n",
    "    def __init__(self,msg,myval):\n",
    "    "
   ]
  }
 ],
 "metadata": {
  "kernelspec": {
   "display_name": "Python 3 (ipykernel)",
   "language": "python",
   "name": "python3"
  },
  "language_info": {
   "codemirror_mode": {
    "name": "ipython",
    "version": 3
   },
   "file_extension": ".py",
   "mimetype": "text/x-python",
   "name": "python",
   "nbconvert_exporter": "python",
   "pygments_lexer": "ipython3",
   "version": "3.9.12"
  }
 },
 "nbformat": 4,
 "nbformat_minor": 5
}
