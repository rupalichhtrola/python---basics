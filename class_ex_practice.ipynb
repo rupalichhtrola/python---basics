{
 "cells": [
  {
   "cell_type": "code",
   "execution_count": 5,
   "id": "bbb7fe05",
   "metadata": {},
   "outputs": [
    {
     "name": "stdout",
     "output_type": "stream",
     "text": [
      "Hello friends, my name is  Rupali\n"
     ]
    }
   ],
   "source": [
    "# A sample class with init method\n",
    "class Person:\n",
    "    \n",
    "    def __init__(self,name):\n",
    "        self.name=name\n",
    "        \n",
    "    def hello(self):\n",
    "        print(\"Hello friends, my name is \",self.name)\n",
    "        \n",
    "p=Person(\"Rupali\")\n",
    "p.hello()"
   ]
  },
  {
   "cell_type": "code",
   "execution_count": 11,
   "id": "d48d48ef",
   "metadata": {},
   "outputs": [
    {
     "name": "stdout",
     "output_type": "stream",
     "text": [
      "Enter name : rupali chhatrola\n",
      "Hello friends, my name is  rupali chhatrola\n"
     ]
    }
   ],
   "source": [
    "class Person:\n",
    "    \n",
    "    def __init__(self,name):\n",
    "        self.name=name\n",
    "        \n",
    "    def hello(self):\n",
    "        a=str(input(\"Enter name : \"))\n",
    "        print(\"Hello friends, my name is \",a)\n",
    "        \n",
    "p=Person(\"name\")\n",
    "p.hello()"
   ]
  },
  {
   "cell_type": "code",
   "execution_count": 19,
   "id": "e13fc814",
   "metadata": {},
   "outputs": [
    {
     "name": "stdout",
     "output_type": "stream",
     "text": [
      "Enter the name : Rupali\n",
      "Enter the age : 30\n",
      "Enter gender : Female\n",
      "Enter natioanality : Indian\n"
     ]
    }
   ],
   "source": [
    "class person:\n",
    "    \n",
    "    def __init__(self,name,age,gender,nationality):\n",
    "        self.name=name\n",
    "        self.age=age\n",
    "        self.gender=gender\n",
    "        self.nationality=nationality\n",
    "        \n",
    "    def info(self):\n",
    "        name=str(input(\"Enter the name : \"))\n",
    "        age=int(input(\"Enter the age : \"))\n",
    "        gender=str(input(\"Enter gender : \"))\n",
    "        nation=str(input(\"Enter natioanality : \"))\n",
    "        \n",
    "p=person(\"name\",\"age\",\"gender\",\"nationality\")\n",
    "p.info()"
   ]
  },
  {
   "cell_type": "code",
   "execution_count": 15,
   "id": "419b4cac",
   "metadata": {},
   "outputs": [
    {
     "name": "stdout",
     "output_type": "stream",
     "text": [
      "My name is Rupali\n",
      "My age is 30\n",
      "I am Female\n",
      "I am an Indian\n"
     ]
    }
   ],
   "source": [
    "class person:\n",
    "    \n",
    "    def __init__(self,name,age,gender,nationality):\n",
    "        self.name=name\n",
    "        self.age=age\n",
    "        self.gender=gender\n",
    "        self.nationality=nationality\n",
    "        \n",
    "    def info(self):\n",
    "        print(\"My name is\",self.name)\n",
    "        print(\"My age is\",self.age)\n",
    "        print(\"I am\",self.gender)\n",
    "        print(\"I am an\",self.nationality)\n",
    "        \n",
    "p=person(\"Rupali\",30,\"Female\",\"Indian\")\n",
    "p.info()"
   ]
  },
  {
   "cell_type": "code",
   "execution_count": 26,
   "id": "60581de5",
   "metadata": {},
   "outputs": [
    {
     "name": "stdout",
     "output_type": "stream",
     "text": [
      "enter a : 6\n",
      "enter b : 4.2\n",
      "--------------------\n",
      "addition :  10.2\n",
      "Substraction :  1.7999999999999998\n",
      "Multiplication : 25.200000000000003\n",
      "Division : 1.4285714285714286\n"
     ]
    }
   ],
   "source": [
    "# simple calculator usng class \n",
    "class cal:\n",
    "    def __init__(self,a,b):\n",
    "        self.a=a\n",
    "        self.b=b\n",
    "    \n",
    "    def add(self):\n",
    "        print(\"--------------------\")\n",
    "        print(\"addition : \",a+b) \n",
    "            \n",
    "    def sub(self):\n",
    "        print(\"Substraction : \",a-b)\n",
    "            \n",
    "    def mul(self):\n",
    "        print(\"Multiplication :\",a*b)\n",
    "            \n",
    "    def div(self):\n",
    "        print(\"Division :\",a/b)      \n",
    "    \n",
    "a=float(input(\"enter a : \"))\n",
    "b=float(input(\"enter b : \"))\n",
    "c=cal(a,b)\n",
    "c.add()\n",
    "c.sub()\n",
    "c.mul()\n",
    "c.div()"
   ]
  },
  {
   "cell_type": "code",
   "execution_count": 9,
   "id": "13711c75",
   "metadata": {},
   "outputs": [
    {
     "name": "stdout",
     "output_type": "stream",
     "text": [
      "Enter the number : 5.3\n",
      "This number is positive\n"
     ]
    }
   ],
   "source": [
    "# number is positive or negative using class\n",
    "class num:\n",
    "    \n",
    "    def __init__(self,a):\n",
    "        self.a=a\n",
    "        \n",
    "    def num_p(self):\n",
    "        \n",
    "        try:\n",
    "            if self.a>0:\n",
    "                print(\"This number is positive\")\n",
    "            else:\n",
    "                print(\"This number is nagetive\")\n",
    "                \n",
    "        except Exception as e:\n",
    "                print(e)\n",
    "                \n",
    "a=float(input(\"Enter the number : \"))  \n",
    "\n",
    "p=num(a)\n",
    "p.num_p()"
   ]
  },
  {
   "cell_type": "code",
   "execution_count": 12,
   "id": "f2f321f1",
   "metadata": {},
   "outputs": [
    {
     "name": "stdout",
     "output_type": "stream",
     "text": [
      "Enter the weight of person (kg) : 50\n",
      "Enter the height of person (meters) : 12\n",
      "0.3472222222222222\n"
     ]
    }
   ],
   "source": [
    "# BMI calculation using calss\n",
    "class BMI:\n",
    "    def __init__(self,h,w): \n",
    "        self.h=h\n",
    "        self.w=w\n",
    "        \n",
    "    def cal(self):\n",
    "        try:\n",
    "            bmi=self.w/((self.h)*(self.h))\n",
    "            print(bmi)\n",
    "        except Exception as e:\n",
    "            print(e)\n",
    "\n",
    "try:\n",
    "    w=float(input(\"Enter the weight of person (kg) : \"))\n",
    "    h=float(input(\"Enter the height of person (meters) : \"))\n",
    "    obj=BMI(h,w)\n",
    "    obj.cal()\n",
    "except Exception as e:\n",
    "    print(\"Error in our program\")\n",
    "        "
   ]
  },
  {
   "cell_type": "code",
   "execution_count": 20,
   "id": "35d30f91",
   "metadata": {},
   "outputs": [
    {
     "name": "stdout",
     "output_type": "stream",
     "text": [
      "After Converting Dictionary to Class : \n",
      "Geeks 1223 Python\n",
      "<class '__main__.Dict2Class'>\n"
     ]
    }
   ],
   "source": [
    "class Dict2Class(object):\n",
    "      \n",
    "    def __init__(self, my_dict):\n",
    "          \n",
    "        for key in my_dict:\n",
    "            setattr(self, key, my_dict[key])\n",
    "  \n",
    "# Driver Code\n",
    "if __name__ == \"__main__\":\n",
    "      \n",
    "    # Creating the dictionary\n",
    "    my_dict = {\"Name\": \"Geeks\",\n",
    "               \"Rank\": \"1223\",\n",
    "               \"Subject\": \"Python\"}\n",
    "      \n",
    "    result = Dict2Class(my_dict)\n",
    "      \n",
    "    # printing the result\n",
    "    print(\"After Converting Dictionary to Class : \")\n",
    "    print(result.Name, result.Rank, result.Subject)\n",
    "    print(type(result))\n"
   ]
  },
  {
   "cell_type": "code",
   "execution_count": 23,
   "id": "ba2d12b0",
   "metadata": {},
   "outputs": [
    {
     "ename": "TypeError",
     "evalue": "dict2class() takes no arguments",
     "output_type": "error",
     "traceback": [
      "\u001b[1;31m---------------------------------------------------------------------------\u001b[0m",
      "\u001b[1;31mTypeError\u001b[0m                                 Traceback (most recent call last)",
      "Input \u001b[1;32mIn [23]\u001b[0m, in \u001b[0;36m<cell line: 9>\u001b[1;34m()\u001b[0m\n\u001b[0;32m      9\u001b[0m \u001b[38;5;28;01mif\u001b[39;00m \u001b[38;5;18m__name__\u001b[39m \u001b[38;5;241m==\u001b[39m \u001b[38;5;124m\"\u001b[39m\u001b[38;5;124m__main__\u001b[39m\u001b[38;5;124m\"\u001b[39m:\n\u001b[0;32m     10\u001b[0m     \n\u001b[0;32m     11\u001b[0m     \u001b[38;5;66;03m# Creating my dictioanry\u001b[39;00m\n\u001b[0;32m     12\u001b[0m     my_dict \u001b[38;5;241m=\u001b[39m {\u001b[38;5;124m\"\u001b[39m\u001b[38;5;124mName\u001b[39m\u001b[38;5;124m\"\u001b[39m:\u001b[38;5;124m\"\u001b[39m\u001b[38;5;124mRupali\u001b[39m\u001b[38;5;124m\"\u001b[39m,\n\u001b[0;32m     13\u001b[0m                \u001b[38;5;124m\"\u001b[39m\u001b[38;5;124mRank\u001b[39m\u001b[38;5;124m\"\u001b[39m:\u001b[38;5;124m\"\u001b[39m\u001b[38;5;124m1234\u001b[39m\u001b[38;5;124m\"\u001b[39m,\n\u001b[0;32m     14\u001b[0m                \u001b[38;5;124m\"\u001b[39m\u001b[38;5;124mSubject\u001b[39m\u001b[38;5;124m\"\u001b[39m:\u001b[38;5;124m\"\u001b[39m\u001b[38;5;124mPython\u001b[39m\u001b[38;5;124m\"\u001b[39m}\n\u001b[1;32m---> 16\u001b[0m     result \u001b[38;5;241m=\u001b[39m \u001b[43mdict2class\u001b[49m\u001b[43m(\u001b[49m\u001b[43mmy_dict\u001b[49m\u001b[43m)\u001b[49m\n\u001b[0;32m     18\u001b[0m     \u001b[38;5;66;03m#printing the result\u001b[39;00m\n\u001b[0;32m     19\u001b[0m     \u001b[38;5;28mprint\u001b[39m(\u001b[38;5;124m\"\u001b[39m\u001b[38;5;124mAfter converting dictionary to class :\u001b[39m\u001b[38;5;124m\"\u001b[39m)\n",
      "\u001b[1;31mTypeError\u001b[0m: dict2class() takes no arguments"
     ]
    }
   ],
   "source": [
    "# turns dictionary into a class\n",
    "\n",
    "class dict2class(object):\n",
    "    \n",
    "    def _init__(self,my_dict):\n",
    "        for key in my_dict:\n",
    "            setattr(self,key,my_dict[key])\n",
    "\n",
    "if __name__ == \"__main__\":\n",
    "    \n",
    "    # Creating my dictioanry\n",
    "    my_dict = {\"Name\":\"Rupali\",\n",
    "               \"Rank\":\"1234\",\n",
    "               \"Subject\":\"Python\"}\n",
    "    \n",
    "    result = dict2class(my_dict)\n",
    "    \n",
    "    #printing the result\n",
    "    print(\"After converting dictionary to class :\")\n",
    "    print(result.Name,result.Rank,result.Subject)\n",
    "    print(type(result))"
   ]
  },
  {
   "cell_type": "code",
   "execution_count": 1,
   "id": "9367ffd7",
   "metadata": {},
   "outputs": [
    {
     "name": "stdout",
     "output_type": "stream",
     "text": [
      "Enter first number : 2\n",
      "Enter second number : 5\n",
      "0 : Exit\n",
      "1 : Addition\n",
      "2 : Substraction\n",
      "3 : Multiplication\n",
      "4 : Division\n",
      "Enter the choice : 3\n",
      "Result :  10.0\n",
      "0 : Exit\n",
      "1 : Addition\n",
      "2 : Substraction\n",
      "3 : Multiplication\n",
      "4 : Division\n",
      "Enter the choice : 0\n",
      "Exiting!\n"
     ]
    }
   ],
   "source": [
    "class cal():\n",
    "    def __init__(self,a,b):\n",
    "        self.a=a\n",
    "        self.b=b\n",
    "        \n",
    "    def add(self):\n",
    "        return self.a+self.b\n",
    "    def sub(self):\n",
    "        return self.a-self.b\n",
    "    def mul(self):\n",
    "        return self.a*self.b\n",
    "    def div(self):\n",
    "        return self.a/self.b\n",
    "    \n",
    "a=float(input(\"Enter first number : \"))\n",
    "b=float(input(\"Enter second number : \"))\n",
    "\n",
    "c=cal(a,b)\n",
    "\n",
    "choice=1\n",
    "while choice!=0:\n",
    "    print(\"0 : Exit\")\n",
    "    print(\"1 : Addition\")\n",
    "    print(\"2 : Substraction\")\n",
    "    print(\"3 : Multiplication\")\n",
    "    print(\"4 : Division\")\n",
    "    \n",
    "    choice=int(input(\"Enter the choice : \"))\n",
    "    if choice==1:\n",
    "        print(\"Result : \",c.add())\n",
    "    elif choice==2:\n",
    "        print(\"Result : \",c.sub())\n",
    "    elif choice==3:\n",
    "        print(\"Result : \",c.mul())\n",
    "    elif choice==4:\n",
    "        print(\"Result : \",c.div())\n",
    "    elif choice==0:\n",
    "        print(\"Exiting!\")\n",
    "    else:\n",
    "        print(\"Invalid choice!!\")"
   ]
  },
  {
   "cell_type": "code",
   "execution_count": null,
   "id": "2c200d85",
   "metadata": {},
   "outputs": [],
   "source": []
  },
  {
   "cell_type": "code",
   "execution_count": null,
   "id": "b5cc154f",
   "metadata": {},
   "outputs": [],
   "source": []
  }
 ],
 "metadata": {
  "kernelspec": {
   "display_name": "Python 3 (ipykernel)",
   "language": "python",
   "name": "python3"
  },
  "language_info": {
   "codemirror_mode": {
    "name": "ipython",
    "version": 3
   },
   "file_extension": ".py",
   "mimetype": "text/x-python",
   "name": "python",
   "nbconvert_exporter": "python",
   "pygments_lexer": "ipython3",
   "version": "3.9.12"
  }
 },
 "nbformat": 4,
 "nbformat_minor": 5
}
